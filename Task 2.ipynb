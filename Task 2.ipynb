import pandas as pd
import matplotlib.pyplot as plt
import seaborn as sns


# In[2]:


# Load Dataset
data = pd.read_csv("E:\Internship Task\Data Science Internship\Dataset.csv")


# In[3]:


# View top 10 rows of the dataset
print(data.head(10))


# In[4]:


## Analyze the Relationship Between the Type of Cuisine and the Restaurant's Rating
## Identify the Top 10 Cuisines


# In[5]:


# Identify the top 10 cuisines
top_cuisines = data['Cuisines'].value_counts().head(10).index.tolist()


# In[6]:


# Subset the data for only the top 10 cuisines
data_top_cuisines = data[data['Cuisines'].isin(top_cuisines)]
